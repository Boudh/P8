{
 "cells": [
  {
   "cell_type": "markdown",
   "metadata": {},
   "source": [
    "# Scripts \n",
    "Ce notebook présente un script de traitement d'images hébergés sur un serveur S3 d'AWS.\n",
    "## Chargement des bibliothèques"
   ]
  },
  {
   "cell_type": "code",
   "execution_count": 1,
   "metadata": {},
   "outputs": [],
   "source": [
    "import boto3\n",
    "import cv2\n",
    "import os\n",
    "import numpy as np\n",
    "import pandas as pd\n",
    "from PIL import Image\n",
    "from io import BytesIO\n",
    "import findspark\n",
    "findspark.init()\n",
    "import pyspark\n",
    "from pyspark.sql import SparkSession"
   ]
  },
  {
   "cell_type": "markdown",
   "metadata": {},
   "source": [
    "## Connexion au serveur S3 contenant les images"
   ]
  },
  {
   "cell_type": "code",
   "execution_count": 2,
   "metadata": {},
   "outputs": [],
   "source": [
    "#clefs d'accès\n",
    "acces_key ='XXXXXXXXXXXXXXXX'\n",
    "secret_acces_key = 'XXXXXXXXXXXXXXXX'"
   ]
  },
  {
   "cell_type": "code",
   "execution_count": 3,
   "metadata": {},
   "outputs": [],
   "source": [
    "#connexion au serveur\n",
    "s3 = boto3.resource(\n",
    "    service_name='s3',\n",
    "    region_name='eu-west-3',\n",
    "    aws_access_key_id=acces_key,\n",
    "    aws_secret_access_key=secret_acces_key\n",
    ")"
   ]
  },
  {
   "cell_type": "markdown",
   "metadata": {},
   "source": [
    "## Initialisation de la session Spark"
   ]
  },
  {
   "cell_type": "code",
   "execution_count": 4,
   "metadata": {},
   "outputs": [
    {
     "name": "stderr",
     "output_type": "stream",
     "text": [
      "WARNING: An illegal reflective access operation has occurred\n",
      "WARNING: Illegal reflective access by org.apache.spark.unsafe.Platform (file:/home/ec2-user/spark-3.2.0-bin-hadoop3.2/jars/spark-unsafe_2.12-3.2.0.jar) to constructor java.nio.DirectByteBuffer(long,int)\n",
      "WARNING: Please consider reporting this to the maintainers of org.apache.spark.unsafe.Platform\n",
      "WARNING: Use --illegal-access=warn to enable warnings of further illegal reflective access operations\n",
      "WARNING: All illegal access operations will be denied in a future release\n",
      "Using Spark's default log4j profile: org/apache/spark/log4j-defaults.properties\n",
      "Setting default log level to \"WARN\".\n",
      "To adjust logging level use sc.setLogLevel(newLevel). For SparkR, use setLogLevel(newLevel).\n",
      "21/12/22 13:54:43 WARN NativeCodeLoader: Unable to load native-hadoop library for your platform... using builtin-java classes where applicable\n"
     ]
    }
   ],
   "source": [
    "spark = (SparkSession\n",
    "             .builder.master('local[*]')\n",
    "             .appName('p8')\n",
    "             .config('spark.executor.memory', '16g')\n",
    "             .config('spark.driver.memory', '16g') \n",
    "             .getOrCreate()\n",
    "            )"
   ]
  },
  {
   "cell_type": "code",
   "execution_count": 5,
   "metadata": {},
   "outputs": [
    {
     "data": {
      "text/html": [
       "\n",
       "            <div>\n",
       "                <p><b>SparkSession - in-memory</b></p>\n",
       "                \n",
       "        <div>\n",
       "            <p><b>SparkContext</b></p>\n",
       "\n",
       "            <p><a href=\"http://ip-172-31-16-246.eu-west-3.compute.internal:4040\">Spark UI</a></p>\n",
       "\n",
       "            <dl>\n",
       "              <dt>Version</dt>\n",
       "                <dd><code>v3.2.0</code></dd>\n",
       "              <dt>Master</dt>\n",
       "                <dd><code>local[*]</code></dd>\n",
       "              <dt>AppName</dt>\n",
       "                <dd><code>p8</code></dd>\n",
       "            </dl>\n",
       "        </div>\n",
       "        \n",
       "            </div>\n",
       "        "
      ],
      "text/plain": [
       "<pyspark.sql.session.SparkSession at 0x7f004affa340>"
      ]
     },
     "execution_count": 5,
     "metadata": {},
     "output_type": "execute_result"
    }
   ],
   "source": [
    "spark"
   ]
  },
  {
   "cell_type": "markdown",
   "metadata": {},
   "source": [
    "## Test de connexion au serveur S3 & affichage d'une image"
   ]
  },
  {
   "cell_type": "code",
   "execution_count": 6,
   "metadata": {},
   "outputs": [],
   "source": [
    "test = s3.Bucket('bp8').Object('Data/Orange/0_100.jpg').get().get('Body').read()"
   ]
  },
  {
   "cell_type": "code",
   "execution_count": 7,
   "metadata": {},
   "outputs": [
    {
     "data": {
      "image/png": "[encoded data removed]",
      "text/plain": [
       "<PIL.JpegImagePlugin.JpegImageFile image mode=RGB size=100x100 at 0x7F004B035EE0>"
      ]
     },
     "execution_count": 7,
     "metadata": {},
     "output_type": "execute_result"
    }
   ],
   "source": [
    "img = Image.open(BytesIO(test))\n",
    "img"
   ]
  },
  {
   "cell_type": "markdown",
   "metadata": {},
   "source": [
    "## Extraction de features\n",
    "### Chargement des bibliothèquess pour l'extraction de features"
   ]
  },
  {
   "cell_type": "code",
   "execution_count": 8,
   "metadata": {},
   "outputs": [
    {
     "name": "stderr",
     "output_type": "stream",
     "text": [
      "2021-12-22 13:54:48.544439: W tensorflow/stream_executor/platform/default/dso_loader.cc:64] Could not load dynamic library 'libcudart.so.11.0'; dlerror: libcudart.so.11.0: cannot open shared object file: No such file or directory; LD_LIBRARY_PATH: /home/ec2-user/anaconda3/lib/python3.9/site-packages/cv2/../../lib64:\n",
      "2021-12-22 13:54:48.544478: I tensorflow/stream_executor/cuda/cudart_stub.cc:29] Ignore above cudart dlerror if you do not have a GPU set up on your machine.\n"
     ]
    }
   ],
   "source": [
    "from keras.preprocessing.image import load_img\n",
    "from keras.preprocessing.image import img_to_array\n",
    "from keras.applications.vgg16 import preprocess_input\n",
    "from keras.applications.vgg16 import decode_predictions\n",
    "from keras.applications.vgg16 import VGG16\n",
    "from keras.models import Model"
   ]
  },
  {
   "cell_type": "markdown",
   "metadata": {},
   "source": [
    "### Initialisation du model VGG16 en Transfer Learning"
   ]
  },
  {
   "cell_type": "code",
   "execution_count": 9,
   "metadata": {},
   "outputs": [
    {
     "name": "stderr",
     "output_type": "stream",
     "text": [
      "2021-12-22 13:54:52.947410: W tensorflow/stream_executor/platform/default/dso_loader.cc:64] Could not load dynamic library 'libcuda.so.1'; dlerror: libcuda.so.1: cannot open shared object file: No such file or directory; LD_LIBRARY_PATH: /home/ec2-user/anaconda3/lib/python3.9/site-packages/cv2/../../lib64:\n",
      "2021-12-22 13:54:52.947449: W tensorflow/stream_executor/cuda/cuda_driver.cc:269] failed call to cuInit: UNKNOWN ERROR (303)\n",
      "2021-12-22 13:54:52.947480: I tensorflow/stream_executor/cuda/cuda_diagnostics.cc:156] kernel driver does not appear to be running on this host (ip-172-31-16-246.eu-west-3.compute.internal): /proc/driver/nvidia/version does not exist\n",
      "2021-12-22 13:54:52.947761: I tensorflow/core/platform/cpu_feature_guard.cc:151] This TensorFlow binary is optimized with oneAPI Deep Neural Network Library (oneDNN) to use the following CPU instructions in performance-critical operations:  AVX2 FMA\n",
      "To enable them in other operations, rebuild TensorFlow with the appropriate compiler flags.\n"
     ]
    }
   ],
   "source": [
    "# chargement du modèle\n",
    "model = VGG16()\n",
    "# retrait de la couche de sortie pour utiliser le modèle en Transfer Learning\n",
    "model = Model(inputs=model.inputs, outputs=model.layers[-2].output)"
   ]
  },
  {
   "cell_type": "markdown",
   "metadata": {},
   "source": [
    "### Extraction de features des images contenus dans le serveur S3"
   ]
  },
  {
   "cell_type": "code",
   "execution_count": 10,
   "metadata": {},
   "outputs": [],
   "source": [
    "#création d'un dataframe vide qui contiendras les résultats\n",
    "df = pd.DataFrame(columns=['nom_photos','nom_fruit','features'])\n",
    "\n",
    "#boucle qui parcours les images présents dans le Bucket 'bp8'\n",
    "for obj in s3.Bucket('bp8').objects.all():\n",
    "    #lecture de l'image\n",
    "    img = s3.Bucket('bp8').Object(obj.key).get().get('Body').read()\n",
    "    img = Image.open(BytesIO(img))\n",
    "    #redimensionner l'image pour le modèle VGG16\n",
    "    img = img.resize([224, 224])\n",
    "    #conversion de l'image en array\n",
    "    img = img_to_array(img)\n",
    "    #conversion des dimensions de l'array pour le modèle\n",
    "    img = img.reshape((1, img.shape[0], img.shape[1], img.shape[2]))\n",
    "    #preprocessing de l'image pour le modèle\n",
    "    img = preprocess_input(img)\n",
    "    #extraction des features\n",
    "    features = model.predict(img)\n",
    "    #transformer l'array de features en liste \n",
    "    feats = features.ravel().tolist()\n",
    "    \n",
    "    #on écrit une ligne avec le nom de la photos, le nom du fruit et les features extraites\n",
    "    row={'nom_photos':obj.key,'nom_fruit':obj.key.split('/')[1],'features':feats}\n",
    "    #on ajoute la ligne au dataframe de résultats\n",
    "    df=df.append(row, ignore_index=True)"
   ]
  },
  {
   "cell_type": "code",
   "execution_count": 11,
   "metadata": {},
   "outputs": [
    {
     "data": {
      "text/html": [
       "<div>\n",
       "<style scoped>\n",
       "    .dataframe tbody tr th:only-of-type {\n",
       "        vertical-align: middle;\n",
       "    }\n",
       "\n",
       "    .dataframe tbody tr th {\n",
       "        vertical-align: top;\n",
       "    }\n",
       "\n",
       "    .dataframe thead th {\n",
       "        text-align: right;\n",
       "    }\n",
       "</style>\n",
       "<table border=\"1\" class=\"dataframe\">\n",
       "  <thead>\n",
       "    <tr style=\"text-align: right;\">\n",
       "      <th></th>\n",
       "      <th>nom_photos</th>\n",
       "      <th>nom_fruit</th>\n",
       "      <th>features</th>\n",
       "    </tr>\n",
       "  </thead>\n",
       "  <tbody>\n",
       "    <tr>\n",
       "      <th>0</th>\n",
       "      <td>Data/Orange/0_100.jpg</td>\n",
       "      <td>Orange</td>\n",
       "      <td>[0.0, 0.0, 0.0, 1.9661880731582642, 0.0, 0.0, ...</td>\n",
       "    </tr>\n",
       "    <tr>\n",
       "      <th>1</th>\n",
       "      <td>Data/Orange/1_100.jpg</td>\n",
       "      <td>Orange</td>\n",
       "      <td>[0.0, 0.0, 0.0, 1.9418317079544067, 0.0, 0.0, ...</td>\n",
       "    </tr>\n",
       "    <tr>\n",
       "      <th>2</th>\n",
       "      <td>Data/Orange/2_100.jpg</td>\n",
       "      <td>Orange</td>\n",
       "      <td>[0.0, 0.0, 0.0, 1.9767392873764038, 0.0, 0.0, ...</td>\n",
       "    </tr>\n",
       "    <tr>\n",
       "      <th>3</th>\n",
       "      <td>Data/Pear/0_100.jpg</td>\n",
       "      <td>Pear</td>\n",
       "      <td>[0.0, 0.0, 0.0, 2.268749475479126, 0.0, 0.0, 0...</td>\n",
       "    </tr>\n",
       "    <tr>\n",
       "      <th>4</th>\n",
       "      <td>Data/Pear/1_100.jpg</td>\n",
       "      <td>Pear</td>\n",
       "      <td>[0.0, 0.0, 0.0, 3.191234588623047, 0.0, 0.0, 1...</td>\n",
       "    </tr>\n",
       "    <tr>\n",
       "      <th>5</th>\n",
       "      <td>Data/Pear/2_100.jpg</td>\n",
       "      <td>Pear</td>\n",
       "      <td>[0.0, 0.0, 0.0, 2.4601657390594482, 0.0, 0.0, ...</td>\n",
       "    </tr>\n",
       "    <tr>\n",
       "      <th>6</th>\n",
       "      <td>Data/Raspberry/0_100.jpg</td>\n",
       "      <td>Raspberry</td>\n",
       "      <td>[0.0, 0.0, 0.0, 1.9516667127609253, 0.76340484...</td>\n",
       "    </tr>\n",
       "    <tr>\n",
       "      <th>7</th>\n",
       "      <td>Data/Raspberry/1_100.jpg</td>\n",
       "      <td>Raspberry</td>\n",
       "      <td>[0.0, 0.0, 0.0, 2.4279325008392334, 0.13685750...</td>\n",
       "    </tr>\n",
       "    <tr>\n",
       "      <th>8</th>\n",
       "      <td>Data/Raspberry/2_100.jpg</td>\n",
       "      <td>Raspberry</td>\n",
       "      <td>[0.0, 0.0, 0.0, 2.304990530014038, 0.142278671...</td>\n",
       "    </tr>\n",
       "    <tr>\n",
       "      <th>9</th>\n",
       "      <td>Data/Strawberry/0_100.jpg</td>\n",
       "      <td>Strawberry</td>\n",
       "      <td>[0.0, 3.0220353603363037, 0.0, 0.0, 1.05480527...</td>\n",
       "    </tr>\n",
       "    <tr>\n",
       "      <th>10</th>\n",
       "      <td>Data/Strawberry/1_100.jpg</td>\n",
       "      <td>Strawberry</td>\n",
       "      <td>[0.0, 2.805222988128662, 0.0, 0.0, 0.865810573...</td>\n",
       "    </tr>\n",
       "    <tr>\n",
       "      <th>11</th>\n",
       "      <td>Data/Strawberry/2_100.jpg</td>\n",
       "      <td>Strawberry</td>\n",
       "      <td>[0.0, 2.1663942337036133, 0.0, 0.0, 1.52813529...</td>\n",
       "    </tr>\n",
       "    <tr>\n",
       "      <th>12</th>\n",
       "      <td>Data/Watermelon/0_100.jpg</td>\n",
       "      <td>Watermelon</td>\n",
       "      <td>[0.0, 1.0220606327056885, 0.0, 4.7163357734680...</td>\n",
       "    </tr>\n",
       "    <tr>\n",
       "      <th>13</th>\n",
       "      <td>Data/Watermelon/1_100.jpg</td>\n",
       "      <td>Watermelon</td>\n",
       "      <td>[0.0, 0.2631608545780182, 0.0, 4.6698780059814...</td>\n",
       "    </tr>\n",
       "    <tr>\n",
       "      <th>14</th>\n",
       "      <td>Data/Watermelon/2_100.jpg</td>\n",
       "      <td>Watermelon</td>\n",
       "      <td>[0.0, 1.1938724517822266, 0.0, 4.3665390014648...</td>\n",
       "    </tr>\n",
       "  </tbody>\n",
       "</table>\n",
       "</div>"
      ],
      "text/plain": [
       "                   nom_photos   nom_fruit  \\\n",
       "0       Data/Orange/0_100.jpg      Orange   \n",
       "1       Data/Orange/1_100.jpg      Orange   \n",
       "2       Data/Orange/2_100.jpg      Orange   \n",
       "3         Data/Pear/0_100.jpg        Pear   \n",
       "4         Data/Pear/1_100.jpg        Pear   \n",
       "5         Data/Pear/2_100.jpg        Pear   \n",
       "6    Data/Raspberry/0_100.jpg   Raspberry   \n",
       "7    Data/Raspberry/1_100.jpg   Raspberry   \n",
       "8    Data/Raspberry/2_100.jpg   Raspberry   \n",
       "9   Data/Strawberry/0_100.jpg  Strawberry   \n",
       "10  Data/Strawberry/1_100.jpg  Strawberry   \n",
       "11  Data/Strawberry/2_100.jpg  Strawberry   \n",
       "12  Data/Watermelon/0_100.jpg  Watermelon   \n",
       "13  Data/Watermelon/1_100.jpg  Watermelon   \n",
       "14  Data/Watermelon/2_100.jpg  Watermelon   \n",
       "\n",
       "                                             features  \n",
       "0   [0.0, 0.0, 0.0, 1.9661880731582642, 0.0, 0.0, ...  \n",
       "1   [0.0, 0.0, 0.0, 1.9418317079544067, 0.0, 0.0, ...  \n",
       "2   [0.0, 0.0, 0.0, 1.9767392873764038, 0.0, 0.0, ...  \n",
       "3   [0.0, 0.0, 0.0, 2.268749475479126, 0.0, 0.0, 0...  \n",
       "4   [0.0, 0.0, 0.0, 3.191234588623047, 0.0, 0.0, 1...  \n",
       "5   [0.0, 0.0, 0.0, 2.4601657390594482, 0.0, 0.0, ...  \n",
       "6   [0.0, 0.0, 0.0, 1.9516667127609253, 0.76340484...  \n",
       "7   [0.0, 0.0, 0.0, 2.4279325008392334, 0.13685750...  \n",
       "8   [0.0, 0.0, 0.0, 2.304990530014038, 0.142278671...  \n",
       "9   [0.0, 3.0220353603363037, 0.0, 0.0, 1.05480527...  \n",
       "10  [0.0, 2.805222988128662, 0.0, 0.0, 0.865810573...  \n",
       "11  [0.0, 2.1663942337036133, 0.0, 0.0, 1.52813529...  \n",
       "12  [0.0, 1.0220606327056885, 0.0, 4.7163357734680...  \n",
       "13  [0.0, 0.2631608545780182, 0.0, 4.6698780059814...  \n",
       "14  [0.0, 1.1938724517822266, 0.0, 4.3665390014648...  "
      ]
     },
     "execution_count": 11,
     "metadata": {},
     "output_type": "execute_result"
    }
   ],
   "source": [
    "df"
   ]
  },
  {
   "cell_type": "code",
   "execution_count": 12,
   "metadata": {},
   "outputs": [
    {
     "data": {
      "text/plain": [
       "4096"
      ]
     },
     "execution_count": 12,
     "metadata": {},
     "output_type": "execute_result"
    }
   ],
   "source": [
    "len(df['features'][0])"
   ]
  },
  {
   "cell_type": "markdown",
   "metadata": {},
   "source": [
    "Le modèle VGG16 extrait 4096 features pour chaques images.\n",
    "\n",
    "### Transformation du Dataframe Pandas des résultats en Dataframe Spark"
   ]
  },
  {
   "cell_type": "code",
   "execution_count": 13,
   "metadata": {},
   "outputs": [
    {
     "data": {
      "text/plain": [
       "DataFrame[nom_photos: string, nom_fruit: string, features: array<double>]"
      ]
     },
     "execution_count": 13,
     "metadata": {},
     "output_type": "execute_result"
    }
   ],
   "source": [
    "sdf = spark.createDataFrame(df)\n",
    "sdf"
   ]
  },
  {
   "cell_type": "code",
   "execution_count": 14,
   "metadata": {},
   "outputs": [
    {
     "name": "stderr",
     "output_type": "stream",
     "text": [
      "                                                                                \r"
     ]
    },
    {
     "name": "stdout",
     "output_type": "stream",
     "text": [
      "+--------------------+----------+--------------------+\n",
      "|          nom_photos| nom_fruit|            features|\n",
      "+--------------------+----------+--------------------+\n",
      "|Data/Orange/0_100...|    Orange|[0.0, 0.0, 0.0, 1...|\n",
      "|Data/Orange/1_100...|    Orange|[0.0, 0.0, 0.0, 1...|\n",
      "|Data/Orange/2_100...|    Orange|[0.0, 0.0, 0.0, 1...|\n",
      "| Data/Pear/0_100.jpg|      Pear|[0.0, 0.0, 0.0, 2...|\n",
      "| Data/Pear/1_100.jpg|      Pear|[0.0, 0.0, 0.0, 3...|\n",
      "| Data/Pear/2_100.jpg|      Pear|[0.0, 0.0, 0.0, 2...|\n",
      "|Data/Raspberry/0_...| Raspberry|[0.0, 0.0, 0.0, 1...|\n",
      "|Data/Raspberry/1_...| Raspberry|[0.0, 0.0, 0.0, 2...|\n",
      "|Data/Raspberry/2_...| Raspberry|[0.0, 0.0, 0.0, 2...|\n",
      "|Data/Strawberry/0...|Strawberry|[0.0, 3.022035360...|\n",
      "|Data/Strawberry/1...|Strawberry|[0.0, 2.805222988...|\n",
      "|Data/Strawberry/2...|Strawberry|[0.0, 2.166394233...|\n",
      "|Data/Watermelon/0...|Watermelon|[0.0, 1.022060632...|\n",
      "|Data/Watermelon/1...|Watermelon|[0.0, 0.263160854...|\n",
      "|Data/Watermelon/2...|Watermelon|[0.0, 1.193872451...|\n",
      "+--------------------+----------+--------------------+\n",
      "\n"
     ]
    }
   ],
   "source": [
    "sdf.show()"
   ]
  },
  {
   "cell_type": "markdown",
   "metadata": {},
   "source": [
    "## Preprocessing\n",
    "### Importation des bibliothèques pour le preprocessing"
   ]
  },
  {
   "cell_type": "code",
   "execution_count": 15,
   "metadata": {},
   "outputs": [],
   "source": [
    "from pyspark.ml.feature import StandardScaler, VectorAssembler\n",
    "from pyspark.sql.functions import udf\n",
    "from pyspark.ml.linalg import Vectors, VectorUDT"
   ]
  },
  {
   "cell_type": "markdown",
   "metadata": {},
   "source": [
    "### Vectorisation de la colonne des features pour traitements avec Spark"
   ]
  },
  {
   "cell_type": "code",
   "execution_count": 16,
   "metadata": {},
   "outputs": [
    {
     "name": "stderr",
     "output_type": "stream",
     "text": [
      "\r",
      "[Stage 2:>                                                          (0 + 1) / 1]\r"
     ]
    },
    {
     "name": "stdout",
     "output_type": "stream",
     "text": [
      "+--------------------+----------+--------------------+\n",
      "|          nom_photos| nom_fruit|       features_vect|\n",
      "+--------------------+----------+--------------------+\n",
      "|Data/Orange/0_100...|    Orange|[0.0,0.0,0.0,1.96...|\n",
      "|Data/Orange/1_100...|    Orange|[0.0,0.0,0.0,1.94...|\n",
      "|Data/Orange/2_100...|    Orange|[0.0,0.0,0.0,1.97...|\n",
      "| Data/Pear/0_100.jpg|      Pear|[0.0,0.0,0.0,2.26...|\n",
      "| Data/Pear/1_100.jpg|      Pear|[0.0,0.0,0.0,3.19...|\n",
      "| Data/Pear/2_100.jpg|      Pear|[0.0,0.0,0.0,2.46...|\n",
      "|Data/Raspberry/0_...| Raspberry|[0.0,0.0,0.0,1.95...|\n",
      "|Data/Raspberry/1_...| Raspberry|[0.0,0.0,0.0,2.42...|\n",
      "|Data/Raspberry/2_...| Raspberry|[0.0,0.0,0.0,2.30...|\n",
      "|Data/Strawberry/0...|Strawberry|[0.0,3.0220353603...|\n",
      "|Data/Strawberry/1...|Strawberry|[0.0,2.8052229881...|\n",
      "|Data/Strawberry/2...|Strawberry|[0.0,2.1663942337...|\n",
      "|Data/Watermelon/0...|Watermelon|[0.0,1.0220606327...|\n",
      "|Data/Watermelon/1...|Watermelon|[0.0,0.2631608545...|\n",
      "|Data/Watermelon/2...|Watermelon|[0.0,1.1938724517...|\n",
      "+--------------------+----------+--------------------+\n",
      "\n"
     ]
    },
    {
     "name": "stderr",
     "output_type": "stream",
     "text": [
      "\r",
      "                                                                                \r"
     ]
    }
   ],
   "source": [
    "to_vector = udf(lambda x: Vectors.dense(x), VectorUDT())\n",
    "sdf_vect = sdf.select('nom_photos', 'nom_fruit', \n",
    "                      to_vector('features').alias('features_vect'))\n",
    "sdf_vect.show()"
   ]
  },
  {
   "cell_type": "markdown",
   "metadata": {},
   "source": [
    "### Normalisation des features avec StandardScaler"
   ]
  },
  {
   "cell_type": "code",
   "execution_count": 17,
   "metadata": {},
   "outputs": [],
   "source": [
    "scaler = StandardScaler(withMean=True, withStd=True,inputCol=\"features_vect\",outputCol=\"features_scaled\")"
   ]
  },
  {
   "cell_type": "code",
   "execution_count": 18,
   "metadata": {},
   "outputs": [
    {
     "name": "stderr",
     "output_type": "stream",
     "text": [
      "                                                                                \r"
     ]
    }
   ],
   "source": [
    "sdf_scaled=scaler.fit(sdf_vect).transform(sdf_vect)"
   ]
  },
  {
   "cell_type": "code",
   "execution_count": 19,
   "metadata": {},
   "outputs": [
    {
     "name": "stdout",
     "output_type": "stream",
     "text": [
      "+--------------------+----------+--------------------+--------------------+\n",
      "|          nom_photos| nom_fruit|       features_vect|     features_scaled|\n",
      "+--------------------+----------+--------------------+--------------------+\n",
      "|Data/Orange/0_100...|    Orange|[0.0,0.0,0.0,1.96...|[0.0,-0.635039334...|\n",
      "|Data/Orange/1_100...|    Orange|[0.0,0.0,0.0,1.94...|[0.0,-0.635039334...|\n",
      "|Data/Orange/2_100...|    Orange|[0.0,0.0,0.0,1.97...|[0.0,-0.635039334...|\n",
      "| Data/Pear/0_100.jpg|      Pear|[0.0,0.0,0.0,2.26...|[0.0,-0.635039334...|\n",
      "| Data/Pear/1_100.jpg|      Pear|[0.0,0.0,0.0,3.19...|[0.0,-0.635039334...|\n",
      "| Data/Pear/2_100.jpg|      Pear|[0.0,0.0,0.0,2.46...|[0.0,-0.635039334...|\n",
      "|Data/Raspberry/0_...| Raspberry|[0.0,0.0,0.0,1.95...|[0.0,-0.635039334...|\n",
      "|Data/Raspberry/1_...| Raspberry|[0.0,0.0,0.0,2.42...|[0.0,-0.635039334...|\n",
      "|Data/Raspberry/2_...| Raspberry|[0.0,0.0,0.0,2.30...|[0.0,-0.635039334...|\n",
      "|Data/Strawberry/0...|Strawberry|[0.0,3.0220353603...|[0.0,2.1136827719...|\n",
      "|Data/Strawberry/1...|Strawberry|[0.0,2.8052229881...|[0.0,1.9164789375...|\n",
      "|Data/Strawberry/2...|Strawberry|[0.0,2.1663942337...|[0.0,1.3354259350...|\n",
      "|Data/Watermelon/0...|Watermelon|[0.0,1.0220606327...|[0.0,0.2945860071...|\n",
      "|Data/Watermelon/1...|Watermelon|[0.0,0.2631608545...|[0.0,-0.395678780...|\n",
      "|Data/Watermelon/2...|Watermelon|[0.0,1.1938724517...|[0.0,0.4508591439...|\n",
      "+--------------------+----------+--------------------+--------------------+\n",
      "\n"
     ]
    }
   ],
   "source": [
    "sdf_scaled.show()"
   ]
  },
  {
   "cell_type": "code",
   "execution_count": 20,
   "metadata": {},
   "outputs": [],
   "source": [
    "sdf_scaled = sdf_scaled.select('nom_photos','nom_fruit','features_scaled')"
   ]
  },
  {
   "cell_type": "code",
   "execution_count": 21,
   "metadata": {},
   "outputs": [
    {
     "name": "stdout",
     "output_type": "stream",
     "text": [
      "+--------------------+----------+--------------------+\n",
      "|          nom_photos| nom_fruit|     features_scaled|\n",
      "+--------------------+----------+--------------------+\n",
      "|Data/Orange/0_100...|    Orange|[0.0,-0.635039334...|\n",
      "|Data/Orange/1_100...|    Orange|[0.0,-0.635039334...|\n",
      "|Data/Orange/2_100...|    Orange|[0.0,-0.635039334...|\n",
      "| Data/Pear/0_100.jpg|      Pear|[0.0,-0.635039334...|\n",
      "| Data/Pear/1_100.jpg|      Pear|[0.0,-0.635039334...|\n",
      "| Data/Pear/2_100.jpg|      Pear|[0.0,-0.635039334...|\n",
      "|Data/Raspberry/0_...| Raspberry|[0.0,-0.635039334...|\n",
      "|Data/Raspberry/1_...| Raspberry|[0.0,-0.635039334...|\n",
      "|Data/Raspberry/2_...| Raspberry|[0.0,-0.635039334...|\n",
      "|Data/Strawberry/0...|Strawberry|[0.0,2.1136827719...|\n",
      "|Data/Strawberry/1...|Strawberry|[0.0,1.9164789375...|\n",
      "|Data/Strawberry/2...|Strawberry|[0.0,1.3354259350...|\n",
      "|Data/Watermelon/0...|Watermelon|[0.0,0.2945860071...|\n",
      "|Data/Watermelon/1...|Watermelon|[0.0,-0.395678780...|\n",
      "|Data/Watermelon/2...|Watermelon|[0.0,0.4508591439...|\n",
      "+--------------------+----------+--------------------+\n",
      "\n"
     ]
    }
   ],
   "source": [
    "sdf_scaled.show()"
   ]
  },
  {
   "cell_type": "markdown",
   "metadata": {},
   "source": [
    "## Réduction de dimension : ACP\n",
    "### ACP sur l'ensemble des features"
   ]
  },
  {
   "cell_type": "code",
   "execution_count": 22,
   "metadata": {},
   "outputs": [],
   "source": [
    "from pyspark.ml.feature import PCA\n",
    "acp = PCA(k=4096, inputCol=\"features_scaled\",outputCol=\"features_reduc\")"
   ]
  },
  {
   "cell_type": "code",
   "execution_count": 23,
   "metadata": {},
   "outputs": [
    {
     "name": "stderr",
     "output_type": "stream",
     "text": [
      "21/12/22 13:55:17 WARN InstanceBuilder$NativeBLAS: Failed to load implementation from:dev.ludovic.netlib.blas.JNIBLAS\n",
      "21/12/22 13:55:17 WARN InstanceBuilder$NativeBLAS: Failed to load implementation from:dev.ludovic.netlib.blas.ForeignLinkerBLAS\n",
      "21/12/22 13:55:20 WARN LAPACK: Failed to load implementation from: com.github.fommil.netlib.NativeSystemLAPACK\n",
      "21/12/22 13:55:20 WARN LAPACK: Failed to load implementation from: com.github.fommil.netlib.NativeRefLAPACK\n"
     ]
    }
   ],
   "source": [
    "acp = acp.fit(sdf_scaled)"
   ]
  },
  {
   "cell_type": "code",
   "execution_count": 24,
   "metadata": {},
   "outputs": [],
   "source": [
    "sdf_acp = acp.transform(sdf_scaled)"
   ]
  },
  {
   "cell_type": "code",
   "execution_count": 25,
   "metadata": {},
   "outputs": [
    {
     "name": "stderr",
     "output_type": "stream",
     "text": [
      "21/12/22 13:58:29 WARN DAGScheduler: Broadcasting large task binary with size 128.1 MiB\n",
      "21/12/22 13:58:31 WARN DAGScheduler: Broadcasting large task binary with size 128.1 MiB\n",
      "[Stage 17:>                                                         (0 + 0) / 1]\r"
     ]
    },
    {
     "name": "stdout",
     "output_type": "stream",
     "text": [
      "+--------------------+----------+--------------------+--------------------+\n",
      "|          nom_photos| nom_fruit|     features_scaled|      features_reduc|\n",
      "+--------------------+----------+--------------------+--------------------+\n",
      "|Data/Orange/0_100...|    Orange|[0.0,-0.635039334...|[-20.760560187836...|\n",
      "|Data/Orange/1_100...|    Orange|[0.0,-0.635039334...|[-22.357240872551...|\n",
      "|Data/Orange/2_100...|    Orange|[0.0,-0.635039334...|[-21.857788328993...|\n",
      "| Data/Pear/0_100.jpg|      Pear|[0.0,-0.635039334...|[-15.217432775581...|\n",
      "| Data/Pear/1_100.jpg|      Pear|[0.0,-0.635039334...|[-16.211780407815...|\n",
      "| Data/Pear/2_100.jpg|      Pear|[0.0,-0.635039334...|[-15.093371560765...|\n",
      "|Data/Raspberry/0_...| Raspberry|[0.0,-0.635039334...|[49.5407540337741...|\n",
      "|Data/Raspberry/1_...| Raspberry|[0.0,-0.635039334...|[47.4058058854745...|\n",
      "|Data/Raspberry/2_...| Raspberry|[0.0,-0.635039334...|[43.9631149626791...|\n",
      "|Data/Strawberry/0...|Strawberry|[0.0,2.1136827719...|[-14.485038793318...|\n",
      "|Data/Strawberry/1...|Strawberry|[0.0,1.9164789375...|[-13.951021078570...|\n",
      "|Data/Strawberry/2...|Strawberry|[0.0,1.3354259350...|[-13.916918601025...|\n",
      "|Data/Watermelon/0...|Watermelon|[0.0,0.2945860071...|[4.27065588757065...|\n",
      "|Data/Watermelon/1...|Watermelon|[0.0,-0.395678780...|[4.80215719163963...|\n",
      "|Data/Watermelon/2...|Watermelon|[0.0,0.4508591439...|[3.86866464532147...|\n",
      "+--------------------+----------+--------------------+--------------------+\n",
      "\n"
     ]
    },
    {
     "name": "stderr",
     "output_type": "stream",
     "text": [
      "\r",
      "[Stage 17:>                                                         (0 + 1) / 1]\r",
      "\r",
      "                                                                                \r"
     ]
    }
   ],
   "source": [
    "sdf_acp.show()"
   ]
  },
  {
   "cell_type": "markdown",
   "metadata": {},
   "source": [
    "### Extraction de la variance expliquée"
   ]
  },
  {
   "cell_type": "code",
   "execution_count": 26,
   "metadata": {},
   "outputs": [],
   "source": [
    "var = acp.explainedVariance.cumsum()"
   ]
  },
  {
   "cell_type": "code",
   "execution_count": 27,
   "metadata": {},
   "outputs": [],
   "source": [
    "eigval = var.ravel().tolist()"
   ]
  },
  {
   "cell_type": "code",
   "execution_count": 28,
   "metadata": {},
   "outputs": [],
   "source": [
    "import matplotlib.pyplot as plt"
   ]
  },
  {
   "cell_type": "code",
   "execution_count": 41,
   "metadata": {},
   "outputs": [],
   "source": [
    "eigval = pd.DataFrame(var.ravel().tolist())"
   ]
  },
  {
   "cell_type": "markdown",
   "metadata": {},
   "source": [
    "### Recherche du nombre de dimensions optimal"
   ]
  },
  {
   "cell_type": "code",
   "execution_count": 40,
   "metadata": {},
   "outputs": [
    {
     "data": {
      "text/html": [
       "<div>\n",
       "<style scoped>\n",
       "    .dataframe tbody tr th:only-of-type {\n",
       "        vertical-align: middle;\n",
       "    }\n",
       "\n",
       "    .dataframe tbody tr th {\n",
       "        vertical-align: top;\n",
       "    }\n",
       "\n",
       "    .dataframe thead th {\n",
       "        text-align: right;\n",
       "    }\n",
       "</style>\n",
       "<table border=\"1\" class=\"dataframe\">\n",
       "  <thead>\n",
       "    <tr style=\"text-align: right;\">\n",
       "      <th></th>\n",
       "      <th>0</th>\n",
       "      <th>1</th>\n",
       "      <th>2</th>\n",
       "      <th>3</th>\n",
       "      <th>4</th>\n",
       "      <th>5</th>\n",
       "      <th>6</th>\n",
       "      <th>7</th>\n",
       "      <th>8</th>\n",
       "      <th>9</th>\n",
       "      <th>10</th>\n",
       "      <th>11</th>\n",
       "      <th>12</th>\n",
       "    </tr>\n",
       "  </thead>\n",
       "  <tbody>\n",
       "    <tr>\n",
       "      <th>0</th>\n",
       "      <td>0.281871</td>\n",
       "      <td>0.539335</td>\n",
       "      <td>0.722124</td>\n",
       "      <td>0.871947</td>\n",
       "      <td>0.902716</td>\n",
       "      <td>0.919527</td>\n",
       "      <td>0.934928</td>\n",
       "      <td>0.949578</td>\n",
       "      <td>0.961136</td>\n",
       "      <td>0.97076</td>\n",
       "      <td>0.979967</td>\n",
       "      <td>0.987471</td>\n",
       "      <td>0.994271</td>\n",
       "    </tr>\n",
       "  </tbody>\n",
       "</table>\n",
       "</div>"
      ],
      "text/plain": [
       "         0         1         2         3         4         5         6   \\\n",
       "0  0.281871  0.539335  0.722124  0.871947  0.902716  0.919527  0.934928   \n",
       "\n",
       "         7         8        9         10        11        12  \n",
       "0  0.949578  0.961136  0.97076  0.979967  0.987471  0.994271  "
      ]
     },
     "execution_count": 40,
     "metadata": {},
     "output_type": "execute_result"
    }
   ],
   "source": [
    "eigval[eigval[0]<0.9999].T"
   ]
  },
  {
   "cell_type": "code",
   "execution_count": 42,
   "metadata": {},
   "outputs": [
    {
     "data": {
      "image/png": "[encoded data removed]",
      "text/plain": [
       "<Figure size 432x288 with 1 Axes>"
      ]
     },
     "metadata": {
      "needs_background": "light"
     },
     "output_type": "display_data"
    }
   ],
   "source": [
    "plt.plot(eigval[eigval[0]<0.9999])\n",
    "plt.title(\"Somme cumulée de variance des composantes de l'ACP\")\n",
    "plt.xlabel('Composantes principales')\n",
    "plt.ylabel('Variance cumulée')\n",
    "plt.show()"
   ]
  },
  {
   "cell_type": "markdown",
   "metadata": {},
   "source": [
    "Méthode du coude : Sélection de 4 dimensions pour 87% de variance expliquée."
   ]
  },
  {
   "cell_type": "markdown",
   "metadata": {},
   "source": [
    "### ACP à 4 dimensions "
   ]
  },
  {
   "cell_type": "code",
   "execution_count": 33,
   "metadata": {},
   "outputs": [],
   "source": [
    "acp_2 = PCA(k=4, inputCol=\"features_scaled\",outputCol=\"features_reduc\")"
   ]
  },
  {
   "cell_type": "code",
   "execution_count": 34,
   "metadata": {},
   "outputs": [
    {
     "name": "stderr",
     "output_type": "stream",
     "text": [
      "                                                                                \r"
     ]
    }
   ],
   "source": [
    "acp_2 = acp_2.fit(sdf_scaled)"
   ]
  },
  {
   "cell_type": "code",
   "execution_count": 35,
   "metadata": {},
   "outputs": [],
   "source": [
    "sdf_acp_2 = acp_2.transform(sdf_scaled)"
   ]
  },
  {
   "cell_type": "code",
   "execution_count": 39,
   "metadata": {},
   "outputs": [
    {
     "name": "stdout",
     "output_type": "stream",
     "text": [
      "+--------------------+----------+--------------------+\n",
      "|          nom_photos| nom_fruit|      features_reduc|\n",
      "+--------------------+----------+--------------------+\n",
      "|Data/Orange/0_100...|    Orange|[-20.760560187836...|\n",
      "|Data/Orange/1_100...|    Orange|[-22.357240872551...|\n",
      "|Data/Orange/2_100...|    Orange|[-21.857788328993...|\n",
      "| Data/Pear/0_100.jpg|      Pear|[-15.217432775581...|\n",
      "| Data/Pear/1_100.jpg|      Pear|[-16.211780407815...|\n",
      "| Data/Pear/2_100.jpg|      Pear|[-15.093371560765...|\n",
      "|Data/Raspberry/0_...| Raspberry|[49.5407540337741...|\n",
      "|Data/Raspberry/1_...| Raspberry|[47.4058058854745...|\n",
      "|Data/Raspberry/2_...| Raspberry|[43.9631149626791...|\n",
      "|Data/Strawberry/0...|Strawberry|[-14.485038793318...|\n",
      "|Data/Strawberry/1...|Strawberry|[-13.951021078570...|\n",
      "|Data/Strawberry/2...|Strawberry|[-13.916918601025...|\n",
      "|Data/Watermelon/0...|Watermelon|[4.27065588757065...|\n",
      "|Data/Watermelon/1...|Watermelon|[4.80215719163963...|\n",
      "|Data/Watermelon/2...|Watermelon|[3.86866464532147...|\n",
      "+--------------------+----------+--------------------+\n",
      "\n"
     ]
    }
   ],
   "source": [
    "sdf_acp_2.select('nom_photos','nom_fruit','features_reduc').show()"
   ]
  },
  {
   "cell_type": "markdown",
   "metadata": {},
   "source": [
    "## Récupération des features après réduction de dimension & extraction en .CSV"
   ]
  },
  {
   "cell_type": "code",
   "execution_count": 37,
   "metadata": {},
   "outputs": [],
   "source": [
    "res_acp = sdf_acp_2.select('nom_photos','nom_fruit','features_reduc')\n",
    "res_acp = res_acp.toPandas()"
   ]
  },
  {
   "cell_type": "code",
   "execution_count": 38,
   "metadata": {},
   "outputs": [
    {
     "data": {
      "text/html": [
       "<div>\n",
       "<style scoped>\n",
       "    .dataframe tbody tr th:only-of-type {\n",
       "        vertical-align: middle;\n",
       "    }\n",
       "\n",
       "    .dataframe tbody tr th {\n",
       "        vertical-align: top;\n",
       "    }\n",
       "\n",
       "    .dataframe thead th {\n",
       "        text-align: right;\n",
       "    }\n",
       "</style>\n",
       "<table border=\"1\" class=\"dataframe\">\n",
       "  <thead>\n",
       "    <tr style=\"text-align: right;\">\n",
       "      <th></th>\n",
       "      <th>nom_photos</th>\n",
       "      <th>nom_fruit</th>\n",
       "      <th>features_reduc</th>\n",
       "    </tr>\n",
       "  </thead>\n",
       "  <tbody>\n",
       "    <tr>\n",
       "      <th>0</th>\n",
       "      <td>Data/Orange/0_100.jpg</td>\n",
       "      <td>Orange</td>\n",
       "      <td>[-20.760560187836987, 10.195304327833885, 24.7...</td>\n",
       "    </tr>\n",
       "    <tr>\n",
       "      <th>1</th>\n",
       "      <td>Data/Orange/1_100.jpg</td>\n",
       "      <td>Orange</td>\n",
       "      <td>[-22.357240872551145, 10.497959819930811, 26.8...</td>\n",
       "    </tr>\n",
       "    <tr>\n",
       "      <th>2</th>\n",
       "      <td>Data/Orange/2_100.jpg</td>\n",
       "      <td>Orange</td>\n",
       "      <td>[-21.857788328993784, 11.376750553523568, 25.3...</td>\n",
       "    </tr>\n",
       "    <tr>\n",
       "      <th>3</th>\n",
       "      <td>Data/Pear/0_100.jpg</td>\n",
       "      <td>Pear</td>\n",
       "      <td>[-15.217432775581614, -8.6397438248207, 11.328...</td>\n",
       "    </tr>\n",
       "    <tr>\n",
       "      <th>4</th>\n",
       "      <td>Data/Pear/1_100.jpg</td>\n",
       "      <td>Pear</td>\n",
       "      <td>[-16.21178040781596, -8.357983716988645, 11.96...</td>\n",
       "    </tr>\n",
       "    <tr>\n",
       "      <th>5</th>\n",
       "      <td>Data/Pear/2_100.jpg</td>\n",
       "      <td>Pear</td>\n",
       "      <td>[-15.093371560765394, -9.257572494458866, 12.2...</td>\n",
       "    </tr>\n",
       "    <tr>\n",
       "      <th>6</th>\n",
       "      <td>Data/Raspberry/0_100.jpg</td>\n",
       "      <td>Raspberry</td>\n",
       "      <td>[49.54075403377412, 15.177776383192334, 8.0730...</td>\n",
       "    </tr>\n",
       "    <tr>\n",
       "      <th>7</th>\n",
       "      <td>Data/Raspberry/1_100.jpg</td>\n",
       "      <td>Raspberry</td>\n",
       "      <td>[47.405805885474585, 12.983429347905266, 7.624...</td>\n",
       "    </tr>\n",
       "    <tr>\n",
       "      <th>8</th>\n",
       "      <td>Data/Raspberry/2_100.jpg</td>\n",
       "      <td>Raspberry</td>\n",
       "      <td>[43.96311496267919, 13.343861394331869, 6.6168...</td>\n",
       "    </tr>\n",
       "    <tr>\n",
       "      <th>9</th>\n",
       "      <td>Data/Strawberry/0_100.jpg</td>\n",
       "      <td>Strawberry</td>\n",
       "      <td>[-14.48503879331866, 27.6418428243225, -32.910...</td>\n",
       "    </tr>\n",
       "    <tr>\n",
       "      <th>10</th>\n",
       "      <td>Data/Strawberry/1_100.jpg</td>\n",
       "      <td>Strawberry</td>\n",
       "      <td>[-13.951021078570355, 25.179388011670365, -29....</td>\n",
       "    </tr>\n",
       "    <tr>\n",
       "      <th>11</th>\n",
       "      <td>Data/Strawberry/2_100.jpg</td>\n",
       "      <td>Strawberry</td>\n",
       "      <td>[-13.916918601025909, 26.49248234379731, -32.7...</td>\n",
       "    </tr>\n",
       "    <tr>\n",
       "      <th>12</th>\n",
       "      <td>Data/Watermelon/0_100.jpg</td>\n",
       "      <td>Watermelon</td>\n",
       "      <td>[4.270655887570659, -44.28218006428362, -14.33...</td>\n",
       "    </tr>\n",
       "    <tr>\n",
       "      <th>13</th>\n",
       "      <td>Data/Watermelon/1_100.jpg</td>\n",
       "      <td>Watermelon</td>\n",
       "      <td>[4.802157191639638, -40.3235636891711, -12.561...</td>\n",
       "    </tr>\n",
       "    <tr>\n",
       "      <th>14</th>\n",
       "      <td>Data/Watermelon/2_100.jpg</td>\n",
       "      <td>Watermelon</td>\n",
       "      <td>[3.8686646453214766, -42.02775121678504, -13.0...</td>\n",
       "    </tr>\n",
       "  </tbody>\n",
       "</table>\n",
       "</div>"
      ],
      "text/plain": [
       "                   nom_photos   nom_fruit  \\\n",
       "0       Data/Orange/0_100.jpg      Orange   \n",
       "1       Data/Orange/1_100.jpg      Orange   \n",
       "2       Data/Orange/2_100.jpg      Orange   \n",
       "3         Data/Pear/0_100.jpg        Pear   \n",
       "4         Data/Pear/1_100.jpg        Pear   \n",
       "5         Data/Pear/2_100.jpg        Pear   \n",
       "6    Data/Raspberry/0_100.jpg   Raspberry   \n",
       "7    Data/Raspberry/1_100.jpg   Raspberry   \n",
       "8    Data/Raspberry/2_100.jpg   Raspberry   \n",
       "9   Data/Strawberry/0_100.jpg  Strawberry   \n",
       "10  Data/Strawberry/1_100.jpg  Strawberry   \n",
       "11  Data/Strawberry/2_100.jpg  Strawberry   \n",
       "12  Data/Watermelon/0_100.jpg  Watermelon   \n",
       "13  Data/Watermelon/1_100.jpg  Watermelon   \n",
       "14  Data/Watermelon/2_100.jpg  Watermelon   \n",
       "\n",
       "                                       features_reduc  \n",
       "0   [-20.760560187836987, 10.195304327833885, 24.7...  \n",
       "1   [-22.357240872551145, 10.497959819930811, 26.8...  \n",
       "2   [-21.857788328993784, 11.376750553523568, 25.3...  \n",
       "3   [-15.217432775581614, -8.6397438248207, 11.328...  \n",
       "4   [-16.21178040781596, -8.357983716988645, 11.96...  \n",
       "5   [-15.093371560765394, -9.257572494458866, 12.2...  \n",
       "6   [49.54075403377412, 15.177776383192334, 8.0730...  \n",
       "7   [47.405805885474585, 12.983429347905266, 7.624...  \n",
       "8   [43.96311496267919, 13.343861394331869, 6.6168...  \n",
       "9   [-14.48503879331866, 27.6418428243225, -32.910...  \n",
       "10  [-13.951021078570355, 25.179388011670365, -29....  \n",
       "11  [-13.916918601025909, 26.49248234379731, -32.7...  \n",
       "12  [4.270655887570659, -44.28218006428362, -14.33...  \n",
       "13  [4.802157191639638, -40.3235636891711, -12.561...  \n",
       "14  [3.8686646453214766, -42.02775121678504, -13.0...  "
      ]
     },
     "execution_count": 38,
     "metadata": {},
     "output_type": "execute_result"
    }
   ],
   "source": [
    "res_acp"
   ]
  },
  {
   "cell_type": "code",
   "execution_count": 48,
   "metadata": {},
   "outputs": [],
   "source": [
    "res_acp.to_csv('resultats_acp.csv', index = False)"
   ]
  },
  {
   "cell_type": "markdown",
   "metadata": {},
   "source": [
    "## Upload sur serveur S3"
   ]
  },
  {
   "cell_type": "code",
   "execution_count": 50,
   "metadata": {},
   "outputs": [],
   "source": [
    "s3.meta.client.upload_file('resultats_acp.csv', 'bp8','resultats_acp.csv')"
   ]
  }
 ],
 "metadata": {
  "kernelspec": {
   "display_name": "Python 3",
   "language": "python",
   "name": "python3"
  },
  "language_info": {
   "codemirror_mode": {
    "name": "ipython",
    "version": 3
   },
   "file_extension": ".py",
   "mimetype": "text/x-python",
   "name": "python",
   "nbconvert_exporter": "python",
   "pygments_lexer": "ipython3",
   "version": "3.8.5"
  }
 },
 "nbformat": 4,
 "nbformat_minor": 4
}
